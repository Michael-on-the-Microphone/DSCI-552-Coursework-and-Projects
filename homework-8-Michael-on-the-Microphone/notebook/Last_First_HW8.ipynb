{
 "cells": [
  {
   "cell_type": "markdown",
   "metadata": {},
   "source": [
    "<center><h1>Last_First_HW8</h1></center>"
   ]
  },
  {
   "cell_type": "markdown",
   "metadata": {},
   "source": [
    "Name: Praveen Saravanan\n",
    "<br>\n",
    "Github Username: Michael-on-the-Microphone\n",
    "<br>\n",
    "USC ID: 7939976839"
   ]
  },
  {
   "cell_type": "markdown",
   "metadata": {},
   "source": [
    "## 1. Supervised, Semi-Supervised, and Unsupervised Learning"
   ]
  },
  {
   "cell_type": "markdown",
   "metadata": {},
   "source": [
    "Import packages"
   ]
  },
  {
   "cell_type": "code",
   "execution_count": 1,
   "metadata": {},
   "outputs": [],
   "source": [
    "import numpy as np\n",
    "import pandas as pd\n",
    "import matplotlib.pyplot as plt\n",
    "\n",
    "from sklearn.model_selection import (\n",
    "    train_test_split, StratifiedKFold, GridSearchCV\n",
    ")\n",
    "from sklearn.preprocessing import StandardScaler\n",
    "from sklearn.svm import LinearSVC\n",
    "from sklearn.metrics import (\n",
    "    accuracy_score, precision_score, recall_score,\n",
    "    f1_score, roc_auc_score, confusion_matrix, roc_curve\n",
    ")\n",
    "from sklearn.cluster import KMeans, SpectralClustering"
   ]
  },
  {
   "cell_type": "code",
   "execution_count": 2,
   "metadata": {},
   "outputs": [],
   "source": [
    "import warnings\n",
    "warnings.filterwarnings('ignore')"
   ]
  },
  {
   "cell_type": "markdown",
   "metadata": {},
   "source": [
    "### (a) Download the Breast Cancer Wisconsin (Diagnostic) Data Set"
   ]
  },
  {
   "cell_type": "code",
   "execution_count": 3,
   "metadata": {},
   "outputs": [],
   "source": [
    "DATA_PATH = \"../data/wdbc.data\"\n",
    "\n",
    "features = [\n",
    "    f\"{feat}_{stat}\"\n",
    "    for feat in [\n",
    "        'radius','texture','perimeter','area','smoothness',\n",
    "        'compactness','concavity','concave_points','symmetry','fractal_dim'\n",
    "    ]\n",
    "    for stat in ['mean','se','worst']\n",
    "]\n",
    "cols = ['id','diagnosis'] + features\n",
    "\n",
    "df = pd.read_csv(DATA_PATH, header=None, names=cols)\n",
    "df['y'] = df['diagnosis'].map({'B':0,'M':1})\n",
    "\n",
    "X = df[features].values\n",
    "y = df['y'].values"
   ]
  },
  {
   "cell_type": "markdown",
   "metadata": {},
   "source": [
    "### (b) Monte-Carlo Simulation"
   ]
  },
  {
   "cell_type": "markdown",
   "metadata": {},
   "source": [
    "#### (i) Supervised Learning"
   ]
  },
  {
   "cell_type": "code",
   "execution_count": 4,
   "metadata": {},
   "outputs": [],
   "source": [
    "def supervised_experiment(X, y, M=30, test_size=0.2):\n",
    "    stats = {'train': [], 'test': []}\n",
    "\n",
    "    for seed in range(M):\n",
    "        X_tr, X_te, y_tr, y_te = train_test_split(\n",
    "            X, y, test_size=test_size, stratify=y, random_state=seed\n",
    "        )\n",
    "        scaler = StandardScaler().fit(X_tr)\n",
    "        X_tr_s = scaler.transform(X_tr)\n",
    "        X_te_s = scaler.transform(X_te)\n",
    "\n",
    "        grid = GridSearchCV(\n",
    "            LinearSVC(penalty='l1', dual=False, max_iter=5000),\n",
    "            { 'C': np.logspace(-3,3,10) },\n",
    "            cv=StratifiedKFold(5, shuffle=True, random_state=seed),\n",
    "            scoring='f1'\n",
    "        ).fit(X_tr_s, y_tr)\n",
    "        model = grid.best_estimator_\n",
    "\n",
    "        for X_, y_, key in [(X_tr_s, y_tr, 'train'), (X_te_s, y_te, 'test')]:\n",
    "            y_pred  = model.predict(X_)\n",
    "            y_score = model.decision_function(X_)\n",
    "            stats[key].append({\n",
    "                'accuracy':  accuracy_score(y_, y_pred),\n",
    "                'precision': precision_score(y_, y_pred),\n",
    "                'recall':    recall_score(y_, y_pred),\n",
    "                'f1':        f1_score(y_, y_pred),\n",
    "                'auc':       roc_auc_score(y_, y_score)\n",
    "            })\n",
    "\n",
    "    df_tr = pd.DataFrame(stats['train']).mean()\n",
    "    df_te = pd.DataFrame(stats['test']).mean()\n",
    "    return df_tr, df_te, model, scaler, X_tr_s, y_tr, X_te_s, y_te"
   ]
  },
  {
   "cell_type": "code",
   "execution_count": 5,
   "metadata": {},
   "outputs": [
    {
     "name": "stdout",
     "output_type": "stream",
     "text": [
      "Train confusion matrix:\n",
      " [[284   1]\n",
      " [  3 167]]\n",
      "Test confusion matrix:\n",
      " [[69  3]\n",
      " [ 2 40]]\n"
     ]
    },
    {
     "data": {
      "image/png": "[encoded data removed]",
      "text/plain": [
       "<Figure size 640x480 with 1 Axes>"
      ]
     },
     "metadata": {},
     "output_type": "display_data"
    },
    {
     "name": "stdout",
     "output_type": "stream",
     "text": [
      "Supervised (test):\n",
      " accuracy     0.966374\n",
      "precision    0.971106\n",
      "recall       0.937302\n",
      "f1           0.953406\n",
      "auc          0.993100\n",
      "dtype: float64\n"
     ]
    }
   ],
   "source": [
    "df_train_sup, df_test_sup, model_sup, scaler_sup, X_tr_s, y_tr, X_te_s, y_te = supervised_experiment(X, y, M=1)\n",
    "\n",
    "for name, (X_, y_) in [('Train',(X_tr_s,y_tr)), ('Test',(X_te_s,y_te))]:\n",
    "    y_score = model_sup.decision_function(X_)\n",
    "    fpr, tpr, _ = roc_curve(y_, y_score)\n",
    "    plt.plot(fpr, tpr, label=name)\n",
    "    cm = confusion_matrix(y_, model_sup.predict(X_))\n",
    "    print(f\"{name} confusion matrix:\\n\", cm)\n",
    "plt.plot([0,1],[0,1],'--', color='gray')\n",
    "plt.xlabel('FPR'); plt.ylabel('TPR')\n",
    "plt.legend(); plt.title('Supervised ROC')\n",
    "plt.show()\n",
    "\n",
    "df_tr_mc, df_te_mc, *_ = supervised_experiment(X, y, M=30)\n",
    "print(\"Supervised (test):\\n\", df_te_mc)"
   ]
  },
  {
   "cell_type": "markdown",
   "metadata": {},
   "source": [
    "#### (ii) Semi-Supervised Learning/ Self-training"
   ]
  },
  {
   "cell_type": "markdown",
   "metadata": {},
   "source": [
    "##### (A)"
   ]
  },
  {
   "cell_type": "code",
   "execution_count": 6,
   "metadata": {},
   "outputs": [],
   "source": [
    "def self_training_experiment(X, y, M=30, test_size=0.2):\n",
    "    stats = {'train': [], 'test': []}\n",
    "\n",
    "    for seed in range(M):\n",
    "        X_t, X_test, y_t, y_test = train_test_split(\n",
    "            X, y, test_size=test_size, stratify=y, random_state=seed\n",
    "        )\n",
    "        idx_pos = np.where(y_t==1)[0]; idx_neg = np.where(y_t==0)[0]\n",
    "        np.random.shuffle(idx_pos); np.random.shuffle(idx_neg)\n",
    "        labeled = np.hstack([idx_pos[:len(idx_pos)//2], idx_neg[:len(idx_neg)//2]])\n",
    "        unlabeled = list(set(range(len(y_t))) - set(labeled))\n",
    "\n",
    "        scaler = StandardScaler().fit(X_t[labeled])\n",
    "        X_lab = scaler.transform(X_t[labeled])\n",
    "        y_lab = y_t[labeled]\n",
    "        X_un = scaler.transform(X_t[unlabeled])\n",
    "\n",
    "        model = None\n",
    "        while len(unlabeled) > 0:\n",
    "            grid = GridSearchCV(\n",
    "                LinearSVC(penalty='l1', dual=False, max_iter=5000),\n",
    "                {'C': np.logspace(-3,3,5)},\n",
    "                cv=5, scoring='f1'\n",
    "            ).fit(X_lab, y_lab)\n",
    "            model = grid.best_estimator_\n",
    "            distances = np.abs(model.decision_function(X_un))\n",
    "            farthest_idx = np.argmax(distances)\n",
    "            X_lab = np.vstack([X_lab, X_un[farthest_idx:farthest_idx+1]])\n",
    "            y_lab = np.hstack([y_lab, model.predict(X_un[farthest_idx:farthest_idx+1])])\n",
    "            X_un = np.delete(X_un, farthest_idx, axis=0)\n",
    "            unlabeled.pop(farthest_idx)\n",
    "\n",
    "        for X_, y_, key in [\n",
    "            (X_lab, y_lab, 'train'),\n",
    "            (scaler.transform(X_test), y_test, 'test')\n",
    "        ]:\n",
    "            y_pred  = model.predict(X_)\n",
    "            y_score = model.decision_function(X_)\n",
    "            stats[key].append({\n",
    "                'accuracy':  accuracy_score(y_, y_pred),\n",
    "                'precision': precision_score(y_, y_pred),\n",
    "                'recall':    recall_score(y_, y_pred),\n",
    "                'f1':        f1_score(y_, y_pred),\n",
    "                'auc':       roc_auc_score(y_, y_score)\n",
    "            })\n",
    "\n",
    "    return pd.DataFrame(stats['train']).mean(), pd.DataFrame(stats['test']).mean()"
   ]
  },
  {
   "cell_type": "markdown",
   "metadata": {},
   "source": [
    "##### (B)"
   ]
  },
  {
   "cell_type": "code",
   "execution_count": 7,
   "metadata": {},
   "outputs": [
    {
     "name": "stdout",
     "output_type": "stream",
     "text": [
      "Semi‑supervised (test):\n",
      " accuracy     0.955848\n",
      "precision    0.954653\n",
      "recall       0.926190\n",
      "f1           0.939442\n",
      "auc          0.987831\n",
      "dtype: float64\n"
     ]
    }
   ],
   "source": [
    "df_tr_semi, df_te_semi = self_training_experiment(X, y, M=30)\n",
    "print(\"Semi‑supervised (test):\\n\", df_te_semi)"
   ]
  },
  {
   "cell_type": "markdown",
   "metadata": {},
   "source": [
    "#### (iii) Unsupervised Learning"
   ]
  },
  {
   "cell_type": "markdown",
   "metadata": {},
   "source": [
    "##### (A)"
   ]
  },
  {
   "cell_type": "code",
   "execution_count": 8,
   "metadata": {},
   "outputs": [],
   "source": [
    "def kmeans_experiment(X, y, M=30, test_size=0.2, closest=30):\n",
    "    stats = {'train': [], 'test': []}\n",
    "\n",
    "    for seed in range(M):\n",
    "        X_tr, X_te, y_tr, y_te = train_test_split(\n",
    "            X, y, test_size=test_size, stratify=y, random_state=seed\n",
    "        )\n",
    "        kmeans = KMeans(n_clusters=2, n_init=10, random_state=seed).fit(X_tr)\n",
    "        centers = kmeans.cluster_centers_\n",
    "\n",
    "        labels_map = {}\n",
    "        for c in (0,1):\n",
    "            dists = np.linalg.norm(X_tr - centers[c], axis=1)\n",
    "            idx30 = np.argsort(dists)[:closest]\n",
    "            labels_map[c] = int(round(y_tr[idx30].mean()))\n",
    "\n",
    "        def eval_split(X_, y_, key):\n",
    "            preds = np.array([labels_map[c] for c in kmeans.predict(X_)])\n",
    "            d0 = np.linalg.norm(X_ - centers[0], axis=1)\n",
    "            d1 = np.linalg.norm(X_ - centers[1], axis=1)\n",
    "            score = d0 - d1\n",
    "            stats[key].append({\n",
    "                'accuracy':  accuracy_score(y_, preds),\n",
    "                'precision': precision_score(y_, preds),\n",
    "                'recall':    recall_score(y_, preds),\n",
    "                'f1':        f1_score(y_, preds),\n",
    "                'auc':       roc_auc_score(y_, score)\n",
    "            })\n",
    "\n",
    "        eval_split(X_tr, y_tr, 'train')\n",
    "        eval_split(X_te, y_te, 'test')\n",
    "\n",
    "    return pd.DataFrame(stats['train']).mean(), pd.DataFrame(stats['test']).mean()"
   ]
  },
  {
   "cell_type": "markdown",
   "metadata": {},
   "source": [
    "##### (B)"
   ]
  },
  {
   "cell_type": "code",
   "execution_count": 9,
   "metadata": {},
   "outputs": [
    {
     "name": "stdout",
     "output_type": "stream",
     "text": [
      "K-means Classifier (test):\n",
      " accuracy     0.854094\n",
      "precision    0.996235\n",
      "recall       0.606349\n",
      "f1           0.752364\n",
      "auc          0.780633\n",
      "dtype: float64\n"
     ]
    }
   ],
   "source": [
    "df_tr_km, df_te_km = kmeans_experiment(X, y, M=30)\n",
    "print(\"K-means Classifier (test):\\n\", df_te_km)"
   ]
  },
  {
   "cell_type": "markdown",
   "metadata": {},
   "source": [
    "#### (iv) Spectral Clustering"
   ]
  },
  {
   "cell_type": "code",
   "execution_count": 10,
   "metadata": {},
   "outputs": [],
   "source": [
    "import warnings\n",
    "warnings.filterwarnings(\"ignore\", category=UserWarning)\n",
    "\n",
    "def spectral_experiment(X, y, M=30, test_size=0.2, gamma=1.0):\n",
    "    stats = {'train': [], 'test': []}\n",
    "\n",
    "    for seed in range(M):\n",
    "        X_tr, X_te, y_tr, y_te = train_test_split(\n",
    "            X, y, test_size=test_size, stratify=y, random_state=seed\n",
    "        )\n",
    "        spec = SpectralClustering(\n",
    "            n_clusters=2, affinity='rbf', gamma=gamma,\n",
    "            assign_labels='kmeans', random_state=seed\n",
    "        )\n",
    "        lab_tr = spec.fit_predict(X_tr)\n",
    "        lab_te = spec.fit_predict(X_te)\n",
    "\n",
    "        for lab, X_, y_, key in [\n",
    "            (lab_tr, X_tr, y_tr, 'train'),\n",
    "            (lab_te, X_te, y_te, 'test')\n",
    "        ]:\n",
    "            stats[key].append({\n",
    "                'accuracy':  accuracy_score(y_, lab),\n",
    "                'precision': precision_score(y_, lab),\n",
    "                'recall':    recall_score(y_, lab),\n",
    "                'f1':        f1_score(y_, lab),\n",
    "                'auc':       np.nan\n",
    "            })\n",
    "\n",
    "    df_tr = pd.DataFrame(stats['train']).mean()\n",
    "    df_te = pd.DataFrame(stats['test']).mean()\n",
    "    return df_tr, df_te\n"
   ]
  },
  {
   "cell_type": "markdown",
   "metadata": {},
   "source": [
    "#### (iv) Compare"
   ]
  },
  {
   "cell_type": "code",
   "execution_count": 11,
   "metadata": {},
   "outputs": [
    {
     "data": {
      "application/vnd.microsoft.datawrangler.viewer.v0+json": {
       "columns": [
        {
         "name": "index",
         "rawType": "object",
         "type": "string"
        },
        {
         "name": "Supervised",
         "rawType": "float64",
         "type": "float"
        },
        {
         "name": "Semi",
         "rawType": "float64",
         "type": "float"
        },
        {
         "name": "KMeans",
         "rawType": "float64",
         "type": "float"
        },
        {
         "name": "Spectral",
         "rawType": "float64",
         "type": "float"
        }
       ],
       "ref": "c124adf6-ff16-4a45-8ce1-42a23ba26836",
       "rows": [
        [
         "accuracy",
         "0.9663742690058477",
         "0.9558479532163741",
         "0.854093567251462",
         "0.6263157894736843"
        ],
        [
         "precision",
         "0.971105634612441",
         "0.9546528709029327",
         "0.996235190097259",
         "0.13333333333333333"
        ],
        [
         "recall",
         "0.9373015873015871",
         "0.926190476190476",
         "0.6063492063492064",
         "0.006349206349206349"
        ],
        [
         "f1",
         "0.9534060334052479",
         "0.9394415955170362",
         "0.7523636429210883",
         "0.012121212121212121"
        ],
        [
         "auc",
         "0.993099647266314",
         "0.9878306878306876",
         "0.7806327160493827",
         null
        ]
       ],
       "shape": {
        "columns": 4,
        "rows": 5
       }
      },
      "text/html": [
       "<div>\n",
       "<style scoped>\n",
       "    .dataframe tbody tr th:only-of-type {\n",
       "        vertical-align: middle;\n",
       "    }\n",
       "\n",
       "    .dataframe tbody tr th {\n",
       "        vertical-align: top;\n",
       "    }\n",
       "\n",
       "    .dataframe thead th {\n",
       "        text-align: right;\n",
       "    }\n",
       "</style>\n",
       "<table border=\"1\" class=\"dataframe\">\n",
       "  <thead>\n",
       "    <tr style=\"text-align: right;\">\n",
       "      <th></th>\n",
       "      <th>Supervised</th>\n",
       "      <th>Semi</th>\n",
       "      <th>KMeans</th>\n",
       "      <th>Spectral</th>\n",
       "    </tr>\n",
       "  </thead>\n",
       "  <tbody>\n",
       "    <tr>\n",
       "      <th>accuracy</th>\n",
       "      <td>0.966374</td>\n",
       "      <td>0.955848</td>\n",
       "      <td>0.854094</td>\n",
       "      <td>0.626316</td>\n",
       "    </tr>\n",
       "    <tr>\n",
       "      <th>precision</th>\n",
       "      <td>0.971106</td>\n",
       "      <td>0.954653</td>\n",
       "      <td>0.996235</td>\n",
       "      <td>0.133333</td>\n",
       "    </tr>\n",
       "    <tr>\n",
       "      <th>recall</th>\n",
       "      <td>0.937302</td>\n",
       "      <td>0.926190</td>\n",
       "      <td>0.606349</td>\n",
       "      <td>0.006349</td>\n",
       "    </tr>\n",
       "    <tr>\n",
       "      <th>f1</th>\n",
       "      <td>0.953406</td>\n",
       "      <td>0.939442</td>\n",
       "      <td>0.752364</td>\n",
       "      <td>0.012121</td>\n",
       "    </tr>\n",
       "    <tr>\n",
       "      <th>auc</th>\n",
       "      <td>0.993100</td>\n",
       "      <td>0.987831</td>\n",
       "      <td>0.780633</td>\n",
       "      <td>NaN</td>\n",
       "    </tr>\n",
       "  </tbody>\n",
       "</table>\n",
       "</div>"
      ],
      "text/plain": [
       "           Supervised      Semi    KMeans  Spectral\n",
       "accuracy     0.966374  0.955848  0.854094  0.626316\n",
       "precision    0.971106  0.954653  0.996235  0.133333\n",
       "recall       0.937302  0.926190  0.606349  0.006349\n",
       "f1           0.953406  0.939442  0.752364  0.012121\n",
       "auc          0.993100  0.987831  0.780633       NaN"
      ]
     },
     "metadata": {},
     "output_type": "display_data"
    },
    {
     "data": {
      "image/png": "[encoded data removed]",
      "text/plain": [
       "<Figure size 800x400 with 1 Axes>"
      ]
     },
     "metadata": {},
     "output_type": "display_data"
    }
   ],
   "source": [
    "df_tr_sp, df_te_sp = spectral_experiment(X, y, M=30)\n",
    "\n",
    "comparison = pd.DataFrame({\n",
    "    'Supervised': df_te_mc,\n",
    "    'Semi':       df_te_semi,\n",
    "    'KMeans':     df_te_km,\n",
    "    'Spectral':   df_te_sp\n",
    "})\n",
    "display(comparison)\n",
    "\n",
    "comparison.plot.bar(figsize=(8,4))\n",
    "plt.title('Test‐set Metrics Comparison')\n",
    "plt.ylabel('Score')\n",
    "plt.ylim(0,1)\n",
    "plt.show()"
   ]
  },
  {
   "cell_type": "markdown",
   "metadata": {},
   "source": [
    "## 2. Active Learning Using Support Vector Machines"
   ]
  },
  {
   "cell_type": "markdown",
   "metadata": {},
   "source": [
    "### (a) Download the banknote authentication Data Set"
   ]
  },
  {
   "cell_type": "code",
   "execution_count": 12,
   "metadata": {},
   "outputs": [],
   "source": [
    "BN_PATH = \"../data/data_banknote_authentication.txt\"\n",
    "bn = pd.read_csv(BN_PATH, header=None)\n",
    "bn.columns = ['variance','skewness','curtosis','entropy','class']\n",
    "\n",
    "Xb = bn.iloc[:,:4].values\n",
    "yb = bn['class'].values\n",
    "\n",
    "Xb_tr, Xb_te, yb_tr, yb_te = train_test_split(Xb, yb, test_size=472/len(yb), stratify=yb, random_state=0)"
   ]
  },
  {
   "cell_type": "markdown",
   "metadata": {},
   "source": [
    "### (b) Repeat each of the following two procedures 50 times"
   ]
  },
  {
   "cell_type": "code",
   "execution_count": 13,
   "metadata": {},
   "outputs": [],
   "source": [
    "def make_cv(y_pool, max_splits=5, random_state=0):\n",
    "    counts = np.bincount(y_pool)\n",
    "    min_count = counts.min()\n",
    "    n_splits = min(max_splits, len(y_pool), min_count)\n",
    "    n_splits = max(2, n_splits)\n",
    "    return StratifiedKFold(n_splits=n_splits, shuffle=True, random_state=random_state)"
   ]
  },
  {
   "cell_type": "markdown",
   "metadata": {},
   "source": [
    "#### (i) Passive"
   ]
  },
  {
   "cell_type": "code",
   "execution_count": 14,
   "metadata": {},
   "outputs": [],
   "source": [
    "def passive_learning(X, y, X_te, y_te, steps=90, batch=10, repeats=50):\n",
    "    errs = np.zeros((repeats, steps))\n",
    "    for r in range(repeats):\n",
    "        pool = []\n",
    "        unlabeled = list(range(len(y)))\n",
    "        for i in range(steps):\n",
    "\n",
    "            while True:\n",
    "                batch_idx = np.random.choice(unlabeled, batch, replace=False)\n",
    "                if len(np.unique(y[batch_idx])) == 2:\n",
    "                    break\n",
    "            pool.extend(batch_idx)\n",
    "            for idx in batch_idx:\n",
    "                unlabeled.remove(idx)\n",
    "\n",
    "            Xp, yp = X[pool], y[pool]\n",
    "            cv = make_cv(yp, max_splits=5, random_state=r)\n",
    "            grid = GridSearchCV(\n",
    "                LinearSVC(penalty='l1', dual=False, max_iter=5000),\n",
    "                {'C': np.logspace(-3,3,5)},\n",
    "                cv=cv,\n",
    "                scoring='accuracy',\n",
    "                error_score=np.nan\n",
    "            ).fit(Xp, yp)\n",
    "\n",
    "            pred = grid.best_estimator_.predict(X_te)\n",
    "            errs[r, i] = 1 - accuracy_score(y_te, pred)\n",
    "    return errs.mean(axis=0)"
   ]
  },
  {
   "cell_type": "markdown",
   "metadata": {},
   "source": [
    "#### (ii) Active"
   ]
  },
  {
   "cell_type": "code",
   "execution_count": 15,
   "metadata": {},
   "outputs": [],
   "source": [
    "def active_learning(X, y, X_te, y_te, steps=90, batch=10, repeats=50):\n",
    "    errs = np.zeros((repeats, steps))\n",
    "    for r in range(repeats):\n",
    "        unlabeled = list(range(len(y)))\n",
    "        while True:\n",
    "            init = np.random.choice(unlabeled, batch, replace=False)\n",
    "            if len(np.unique(y[init])) == 2:\n",
    "                break\n",
    "        pool = init.tolist()\n",
    "        for idx in init:\n",
    "            unlabeled.remove(idx)\n",
    "\n",
    "        for i in range(steps):\n",
    "            Xp, yp = X[pool], y[pool]\n",
    "            cv = make_cv(yp, max_splits=5, random_state=r)\n",
    "            grid = GridSearchCV(\n",
    "                LinearSVC(penalty='l1', dual=False, max_iter=5000),\n",
    "                {'C': np.logspace(-3,3,5)},\n",
    "                cv=cv,\n",
    "                scoring='accuracy',\n",
    "                error_score=np.nan\n",
    "            ).fit(Xp, yp)\n",
    "            model = grid.best_estimator_\n",
    "\n",
    "            pred = model.predict(X_te)\n",
    "            errs[r, i] = 1 - accuracy_score(y_te, pred)\n",
    "\n",
    "            if unlabeled:\n",
    "                dists = np.abs(model.decision_function(X[unlabeled]))\n",
    "                choose = unlabeled.pop(np.argmin(dists))\n",
    "                pool.append(choose)\n",
    "\n",
    "    return errs.mean(axis=0)"
   ]
  },
  {
   "cell_type": "markdown",
   "metadata": {},
   "source": [
    "### (c) Average the 50 test errors"
   ]
  },
  {
   "cell_type": "code",
   "execution_count": 16,
   "metadata": {},
   "outputs": [
    {
     "data": {
      "image/png": "[encoded data removed]",
      "text/plain": [
       "<Figure size 640x480 with 1 Axes>"
      ]
     },
     "metadata": {},
     "output_type": "display_data"
    }
   ],
   "source": [
    "passive_err = passive_learning(Xb_tr, yb_tr, Xb_te, yb_te)\n",
    "active_err  = active_learning(Xb_tr, yb_tr, Xb_te, yb_te)\n",
    "\n",
    "x = 10 * np.arange(1, 91)\n",
    "plt.plot(x, passive_err, label='Passive')\n",
    "plt.plot(x, active_err,  label='Active')\n",
    "plt.xlabel('Number of training samples')\n",
    "plt.ylabel('Test Error')\n",
    "plt.title('Active vs Passive Learning Curves')\n",
    "plt.legend()\n",
    "plt.show()"
   ]
  }
 ],
 "metadata": {
  "kernelspec": {
   "display_name": "hw",
   "language": "python",
   "name": "python3"
  },
  "language_info": {
   "codemirror_mode": {
    "name": "ipython",
    "version": 3
   },
   "file_extension": ".py",
   "mimetype": "text/x-python",
   "name": "python",
   "nbconvert_exporter": "python",
   "pygments_lexer": "ipython3",
   "version": "3.13.2"
  },
  "orig_nbformat": 4
 },
 "nbformat": 4,
 "nbformat_minor": 2
}
